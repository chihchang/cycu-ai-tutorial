{
 "cells": [
  {
   "cell_type": "markdown",
   "metadata": {},
   "source": [
    "在這個單元裡,我們會學習如何使用別人已經建立好的模型. 目前市場上已經有很多工具提供訓練模型的功能, 你只需要準備好資料, 就可以完成你的模型.\n",
    "例如微軟的[Custom Vision](https://azure.microsoft.com/zh-tw/services/cognitive-services/custom-vision-service/), Amazon的[Rekognition](https://aws.amazon.com/tw/rekognition/), Google的[AutoML](https://cloud.google.com/automl/?hl=zh-tw). 你只需要載入模型檔案就可以直接預測你的測試資料.\n",
    "\n",
    "&copy; 2016 Chih-Chang Yu@CYCU MIT License"
   ]
  },
  {
   "cell_type": "markdown",
   "metadata": {},
   "source": [
    "首先我們還是要載入需要的函式庫"
   ]
  },
  {
   "cell_type": "code",
   "execution_count": null,
   "metadata": {},
   "outputs": [],
   "source": [
    "import tensorflow as tf\n",
    "import numpy as np\n",
    "import matplotlib.pyplot as plt\n",
    "import random\n",
    "from PIL import Image\n",
    "from tensorflow.keras.models import load_model"
   ]
  },
  {
   "cell_type": "markdown",
   "metadata": {},
   "source": [
    "## 使用Keras的模型\n",
    "載入Keras模型很簡單, 只要使用 `load_model()` 函數就直接載入完成. 本課程還提供了另一個模型檔案 *my_vgg_model.h5*, 會有比較好的辨識率, 同學可自行載入來比較兩者的不同."
   ]
  },
  {
   "cell_type": "code",
   "execution_count": null,
   "metadata": {
    "scrolled": true
   },
   "outputs": [],
   "source": [
    "k_model = load_model('model.h5')"
   ]
  },
  {
   "cell_type": "markdown",
   "metadata": {},
   "source": [
    "我們先載入類別的名稱, 之後比較好觀察辨認的結果."
   ]
  },
  {
   "cell_type": "code",
   "execution_count": null,
   "metadata": {},
   "outputs": [],
   "source": [
    "with open('labels.txt','r') as f:\n",
    "        labels = (f.read().splitlines())"
   ]
  },
  {
   "cell_type": "markdown",
   "metadata": {},
   "source": [
    "這邊我們還是先用cifar-10的資料做為測試."
   ]
  },
  {
   "cell_type": "code",
   "execution_count": null,
   "metadata": {},
   "outputs": [],
   "source": [
    "from tensorflow.keras.datasets import cifar10\n",
    "(X_train, y_train),(X_test, y_test) = cifar10.load_data()"
   ]
  },
  {
   "cell_type": "code",
   "execution_count": null,
   "metadata": {},
   "outputs": [],
   "source": [
    "k_output = k_model.predict(im.reshape((1,)+im.shape))\n",
    "k_predict = np.argmax(k_output)"
   ]
  },
  {
   "cell_type": "code",
   "execution_count": null,
   "metadata": {
    "scrolled": true
   },
   "outputs": [],
   "source": [
    "plt.imshow(im)\n",
    "plt.title('{:.2f}% '.format(k_output[0][k_predict]*100) + labels[k_predict])\n",
    "plt.axis('off')\n",
    "plt.show()"
   ]
  },
  {
   "cell_type": "markdown",
   "metadata": {},
   "source": [
    "## 使用Tensorflow的模型\n",
    "由於載入 Tensorflow 模型的程式比較複雜, 我們把它包成一個函式, 這樣之後就可以直接寫 `load_tf_model()`來載入模型. 有興趣的同學們可以自行研究一下程式碼."
   ]
  },
  {
   "cell_type": "code",
   "execution_count": null,
   "metadata": {},
   "outputs": [],
   "source": [
    "def load_tf_model():\n",
    "\n",
    "    sess = tf.Session()\n",
    "    model_filename = 'model.pb'\n",
    "    with tf.gfile.FastGFile(model_filename,'rb') as f:\n",
    "        graph_def = tf.GraphDef()\n",
    "        graph_def.ParseFromString(f.read())\n",
    "        tf.import_graph_def(graph_def)\n",
    "        \n",
    "    return sess"
   ]
  },
  {
   "cell_type": "code",
   "execution_count": null,
   "metadata": {},
   "outputs": [],
   "source": [
    "# call load_tf_model() to load tensorflow model.\n",
    "sess = load_tf_model()"
   ]
  },
  {
   "cell_type": "markdown",
   "metadata": {},
   "source": [
    "Tensorflow 比較麻煩一點, 需要用到輸入層的名稱跟輸出層的名稱才能進行預測. 我們必須先找出模型的輸入層的名稱,以及模型的輸出層的名稱. 我們要找的名稱需帶有 import 前綴字, 通常模型輸入層的名稱會有 import/Placeholder/input 字樣, 而輸出層會有 Softmax 字樣 (以分類問題來說).  \n",
    "\n",
    "註: 如果當初模型是用keras來建模後轉換成tensorflow模型, 輸入層的名稱可能會有些不同, 還請讀者留意."
   ]
  },
  {
   "cell_type": "code",
   "execution_count": null,
   "metadata": {
    "scrolled": false
   },
   "outputs": [],
   "source": [
    "for op in tf.get_default_graph().get_operations():\n",
    "    print(str(op.name))"
   ]
  },
  {
   "cell_type": "markdown",
   "metadata": {},
   "source": [
    "觀察後我們發現輸入層的名字為 `import/Placeholder_input`, 輸出層的名字為 `outputs/Softmax`"
   ]
  },
  {
   "cell_type": "markdown",
   "metadata": {},
   "source": [
    "以下是使用 Tensorflow 的方式進行運測. "
   ]
  },
  {
   "cell_type": "code",
   "execution_count": null,
   "metadata": {
    "scrolled": false
   },
   "outputs": [],
   "source": [
    "# randomly pick an image\n",
    "idx = random.randint(1,100)\n",
    "im = X_test[idx]\n",
    "\n",
    "# predict\n",
    "softmax_tensor = sess.graph.get_tensor_by_name('import/outputs/Softmax:0')\n",
    "tf_output = sess.run(softmax_tensor, {'import/input_2:0': im.reshape((1,)+im.shape)})\n",
    "tf_predict = np.argmax(tf_output)"
   ]
  },
  {
   "cell_type": "code",
   "execution_count": null,
   "metadata": {},
   "outputs": [],
   "source": [
    "plt.imshow(im)\n",
    "plt.title('{:.2f}% '.format(tf_output[0][tf_predict]*100) + labels[tf_predict])\n",
    "plt.show()"
   ]
  },
  {
   "cell_type": "markdown",
   "metadata": {},
   "source": [
    "你也可以從網路上抓一些圖片來測試模型. Python 中提供了 `requests` 函式庫來取得網路上的資料, 因此我們便利用它來取得測試用的圖片. 這裡我們提供一些可用的連結讓大家練習\n",
    "- 飛機 https://encrypted-tbn0.gstatic.com/images?q=tbn:ANd9GcSMxAvTYUR5hSe3Y_V-HB0XmDaG3ZcX-p-CXZaKI-7g-rZH3bCj\n",
    "- 汽車 https://image.shutterstock.com/image-vector/car-cartoon-sticker-retro-style-260nw-566814880.jpg\n",
    "- 青蛙 https://encrypted-tbn0.gstatic.com/images?q=tbn:ANd9GcSJErznWjCWv70L2VudttjRkSYBiiUmo0uLgWBBNm96ftOYlnZ1kQ\n",
    "- 卡車 https://target.scene7.com/is/image/Target/GUEST_5ffb9be8-fcc2-4728-87e2-cb021932896a\n",
    "- 鳥 https://encrypted-tbn0.gstatic.com/images?q=tbn:ANd9GcQRPLQBnaubH2Z2b9Bw5U0MbZGReBgqsUXPvsrJt8UwEUdqW8Yk\n",
    "- 鹿 https://huntfish.mdc.mo.gov/sites/default/files/styles/species/public/images/species/deer.jpg\n",
    "\n",
    "因為建立模型時我們是使用32x32的彩色圖片進行訓練, 因此取得的影像必須先把尺寸調整成 32x32 才能正確地輸入到模型. 你可以自行替換掉`get()`內的字串後執行下面的程式區塊來觀察結果.\n",
    "\n",
    "註1: 圖片建議盡量找接近正方形的圖片, 這樣比較不會因為尺寸的壓縮而產生物體的變形.  \n",
    "註2: 這個部分的內容超出了本課程的學習範疇, 有興趣的同學可以自行參考一些相關資料,例如[https://blog.gtwang.org/programming/python-requests-module-tutorial/](https://blog.gtwang.org/programming/python-requests-module-tutorial/)"
   ]
  },
  {
   "cell_type": "code",
   "execution_count": null,
   "metadata": {
    "scrolled": false
   },
   "outputs": [],
   "source": [
    "from io import BytesIO\n",
    "import requests\n",
    "\n",
    "# you can get new images by replacing the string in get() function.\n",
    "response = requests.get(\"https://encrypted-tbn0.gstatic.com/images?q=tbn:ANd9GcSJErznWjCWv70L2VudttjRkSYBiiUmo0uLgWBBNm96ftOYlnZ1kQ\")\n",
    "\n",
    "if not response.ok:\n",
    "    print(response)\n",
    "im_data = response.content\n",
    "im = Image.open(BytesIO(im_data))\n",
    "\n",
    "plt.imshow(im)\n",
    "plt.title('original image')\n",
    "plt.axis('off')\n",
    "plt.show()\n",
    "\n",
    "# The input size of the image should be 32x32x3\n",
    "im = im.resize((32,32))\n",
    "im_arr = np.array(im)\n",
    "k_output = k_model.predict(im_arr.reshape((1,)+im_arr.shape))\n",
    "k_predict = np.argmax(k_output)\n",
    "plt.imshow(im_arr)\n",
    "plt.title('{:.2f}% '.format(k_output[0][k_predict]*100) + labels[k_predict])\n",
    "plt.axis('off')\n",
    "plt.show()"
   ]
  }
 ],
 "metadata": {
  "kernelspec": {
   "display_name": "Python 3",
   "language": "python",
   "name": "python3"
  },
  "language_info": {
   "codemirror_mode": {
    "name": "ipython",
    "version": 3
   },
   "file_extension": ".py",
   "mimetype": "text/x-python",
   "name": "python",
   "nbconvert_exporter": "python",
   "pygments_lexer": "ipython3",
   "version": "3.6.7"
  }
 },
 "nbformat": 4,
 "nbformat_minor": 2
}
