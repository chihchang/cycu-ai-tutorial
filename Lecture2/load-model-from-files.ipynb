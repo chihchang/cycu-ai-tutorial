{
 "cells": [
  {
   "cell_type": "markdown",
   "metadata": {},
   "source": [
    "## AI初探-載入已訓練好的模型\n",
    "在這個單元裡,我們會學習如何使用別人已經建立好的模型. 目前市場上已經有很多工具提供訓練模型的功能, 你只需要準備好資料, 就可以完成你的模型.\n",
    "例如微軟的[Custom Vision](https://azure.microsoft.com/zh-tw/services/cognitive-services/custom-vision-service/), Amazon的[Rekognition](https://aws.amazon.com/tw/rekognition/), Google的[AutoML](https://cloud.google.com/automl/?hl=zh-tw). 你只需要載入模型檔案就可以直接預測你的測試資料.\n",
    "\n",
    "因為深度學習的框架不只一種, 本教學僅介紹如何使用 Keras 跟  Tensorflow 的模型檔案.\n",
    "\n",
    "&copy; 2016 Chih-Chang Yu@CYCU MIT License"
   ]
  },
  {
   "cell_type": "markdown",
   "metadata": {},
   "source": [
    "首先我們還是要載入需要的函式庫"
   ]
  },
  {
   "cell_type": "code",
   "execution_count": 3,
   "metadata": {},
   "outputs": [],
   "source": [
    "import numpy as np\n",
    "import matplotlib.pyplot as plt\n",
    "import random\n",
    "from tensorflow.keras.models import load_model"
   ]
  },
  {
   "cell_type": "markdown",
   "metadata": {},
   "source": [
    "## 使用Keras的模型\n",
    "載入Keras模型很簡單, 只要使用 `load_model()` 函數就直接載入完成. 本課程還提供了另一個模型檔案 *my_vgg_model.h5*, 對 [Cifar-10](https://www.cs.toronto.edu/~kriz/cifar.html) 資料集有比較好的辨識率, 同學可自行載入來比較兩者的不同.\n",
    "\n",
    "註: 有時候載入模型的過程會當機, 可能的原因是有其他的 ipynb 專案佔住了 gpu 資源, 可以先從 Notebook 的首頁把其他的 process 先關掉就可以正常執行."
   ]
  },
  {
   "cell_type": "code",
   "execution_count": null,
   "metadata": {
    "scrolled": true
   },
   "outputs": [],
   "source": [
    "# the filepath depends on where you put your model file.\n",
    "k_model = load_model('model/model.h5')"
   ]
  },
  {
   "cell_type": "markdown",
   "metadata": {},
   "source": [
    "我們先載入類別的名稱, 之後比較好觀察辨認的結果."
   ]
  },
  {
   "cell_type": "code",
   "execution_count": 4,
   "metadata": {},
   "outputs": [],
   "source": [
    "# the filepath depends on where you put your labels file.\n",
    "with open('model/labels.txt','r') as f:\n",
    "        labels = (f.read().splitlines())"
   ]
  },
  {
   "cell_type": "markdown",
   "metadata": {},
   "source": [
    "在使用之前, 我們得先確定模型的輸入跟輸出規範. 因此, 我們把模型的最上層(輸出)跟最底層(輸入)的結構印出來看:"
   ]
  },
  {
   "cell_type": "code",
   "execution_count": null,
   "metadata": {},
   "outputs": [],
   "source": [
    "print(k_model.layers[0].output_shape)\n",
    "print(k_model.layers[-1].output_shape)  # -1 means the last layer"
   ]
  },
  {
   "cell_type": "markdown",
   "metadata": {},
   "source": [
    "可以看到輸入層的結構是 32x32x3,  輸出層是 10. 因此我們必須把輸入資料先正規化成32x32x3的影像才能使用這個模型."
   ]
  },
  {
   "cell_type": "markdown",
   "metadata": {},
   "source": [
    "這邊我們還是先用cifar-10提供的的測試資料做為測試."
   ]
  },
  {
   "cell_type": "code",
   "execution_count": null,
   "metadata": {},
   "outputs": [],
   "source": [
    "from tensorflow.keras.datasets import cifar10\n",
    "(_, _),(X_test, y_test) = cifar10.load_data()\n",
    "\n",
    "# We only normalize test data because we don't have to train a model here.\n",
    "X_test = X_test/255"
   ]
  },
  {
   "cell_type": "markdown",
   "metadata": {},
   "source": [
    "讀者們可以反覆執行下面的程式區塊來觀察結果."
   ]
  },
  {
   "cell_type": "code",
   "execution_count": null,
   "metadata": {},
   "outputs": [],
   "source": [
    "idx = random.randint(1,100)\n",
    "im = X_test[idx]\n",
    "k_output = k_model.predict(im.reshape((1,)+im.shape))\n",
    "k_predict = np.argmax(k_output)\n",
    "plt.imshow(im)\n",
    "plt.title('{:.2f}% '.format(k_output[0][k_predict]*100) + labels[k_predict])\n",
    "plt.axis('off')\n",
    "plt.show()"
   ]
  },
  {
   "cell_type": "markdown",
   "metadata": {},
   "source": [
    "## 使用Tensorflow的模型\n",
    "由於載入 Tensorflow 模型的程式比較複雜, 我們把它包成一個函式, 這樣之後就可以直接寫 `load_tf_model()`來載入模型. 有興趣的讀者們可以自行研究一下程式碼."
   ]
  },
  {
   "cell_type": "code",
   "execution_count": 6,
   "metadata": {},
   "outputs": [],
   "source": [
    "import tensorflow as tf"
   ]
  },
  {
   "cell_type": "code",
   "execution_count": 7,
   "metadata": {},
   "outputs": [],
   "source": [
    "def load_tf_model(model_filename):\n",
    "\n",
    "    sess = tf.Session()\n",
    "    with tf.gfile.FastGFile(model_filename,'rb') as f:\n",
    "        graph_def = tf.GraphDef()\n",
    "        graph_def.ParseFromString(f.read())\n",
    "        tf.import_graph_def(graph_def)\n",
    "        \n",
    "    return sess"
   ]
  },
  {
   "cell_type": "markdown",
   "metadata": {},
   "source": [
    "我們一樣有提供一個結果略佳的模型 *my_vgg_model.pb* 供讀者比較"
   ]
  },
  {
   "cell_type": "code",
   "execution_count": 8,
   "metadata": {},
   "outputs": [
    {
     "name": "stdout",
     "output_type": "stream",
     "text": [
      "WARNING:tensorflow:From <ipython-input-7-512f08ce8c1a>:4: FastGFile.__init__ (from tensorflow.python.platform.gfile) is deprecated and will be removed in a future version.\n",
      "Instructions for updating:\n",
      "Use tf.gfile.GFile.\n"
     ]
    }
   ],
   "source": [
    "# call load_tf_model() to load tensorflow model.\n",
    "sess = load_tf_model('model/my_vgg_model.pb')"
   ]
  },
  {
   "cell_type": "markdown",
   "metadata": {},
   "source": [
    "Tensorflow 比較麻煩一點, 需要用到輸入層的名稱跟輸出層的名稱才能進行預測. 我們必須先找出模型的輸入層的名稱,以及模型的輸出層的名稱. 因此我們先用下面的程式區塊印出模型中每一層的名字.  \n",
    "我們要找的名稱需帶有 import 前綴字, 通常模型輸入層的名稱會有 Placeholder/input 字樣, 而輸出層會有 Softmax 字樣 (以分類問題來說).  \n",
    "\n",
    "註: 如果當初模型是用keras來建模後轉換成tensorflow模型, 輸入層的名稱可能會有些不同, 還請讀者留意."
   ]
  },
  {
   "cell_type": "code",
   "execution_count": 9,
   "metadata": {
    "scrolled": false
   },
   "outputs": [
    {
     "name": "stdout",
     "output_type": "stream",
     "text": [
      "import/input\n",
      "import/conv2d_45/kernel\n",
      "import/conv2d_45/bias\n",
      "import/conv2d_45/Conv2D/ReadVariableOp\n",
      "import/conv2d_45/Conv2D\n",
      "import/conv2d_45/BiasAdd/ReadVariableOp\n",
      "import/conv2d_45/BiasAdd\n",
      "import/conv2d_45/Relu\n",
      "import/conv2d_46/kernel\n",
      "import/conv2d_46/bias\n",
      "import/conv2d_46/Conv2D/ReadVariableOp\n",
      "import/conv2d_46/Conv2D\n",
      "import/conv2d_46/BiasAdd/ReadVariableOp\n",
      "import/conv2d_46/BiasAdd\n",
      "import/conv2d_46/Relu\n",
      "import/max_pooling2d_24/MaxPool\n",
      "import/conv2d_47/kernel\n",
      "import/conv2d_47/bias\n",
      "import/conv2d_47/Conv2D/ReadVariableOp\n",
      "import/conv2d_47/Conv2D\n",
      "import/conv2d_47/BiasAdd/ReadVariableOp\n",
      "import/conv2d_47/BiasAdd\n",
      "import/conv2d_47/Relu\n",
      "import/conv2d_48/kernel\n",
      "import/conv2d_48/bias\n",
      "import/conv2d_48/Conv2D/ReadVariableOp\n",
      "import/conv2d_48/Conv2D\n",
      "import/conv2d_48/BiasAdd/ReadVariableOp\n",
      "import/conv2d_48/BiasAdd\n",
      "import/conv2d_48/Relu\n",
      "import/max_pooling2d_25/MaxPool\n",
      "import/conv2d_49/kernel\n",
      "import/conv2d_49/bias\n",
      "import/conv2d_49/Conv2D/ReadVariableOp\n",
      "import/conv2d_49/Conv2D\n",
      "import/conv2d_49/BiasAdd/ReadVariableOp\n",
      "import/conv2d_49/BiasAdd\n",
      "import/conv2d_49/Relu\n",
      "import/conv2d_50/kernel\n",
      "import/conv2d_50/bias\n",
      "import/conv2d_50/Conv2D/ReadVariableOp\n",
      "import/conv2d_50/Conv2D\n",
      "import/conv2d_50/BiasAdd/ReadVariableOp\n",
      "import/conv2d_50/BiasAdd\n",
      "import/conv2d_50/Relu\n",
      "import/max_pooling2d_26/MaxPool\n",
      "import/flatten_8/Shape\n",
      "import/flatten_8/strided_slice/stack\n",
      "import/flatten_8/strided_slice/stack_1\n",
      "import/flatten_8/strided_slice/stack_2\n",
      "import/flatten_8/strided_slice\n",
      "import/flatten_8/Reshape/shape/1\n",
      "import/flatten_8/Reshape/shape\n",
      "import/flatten_8/Reshape\n",
      "import/dropout_8/keras_learning_phase/input\n",
      "import/dropout_8/keras_learning_phase\n",
      "import/dropout_8/cond/Switch\n",
      "import/dropout_8/cond/switch_t\n",
      "import/dropout_8/cond/pred_id\n",
      "import/dropout_8/cond/dropout/rate\n",
      "import/dropout_8/cond/dropout/Shape/Switch\n",
      "import/dropout_8/cond/dropout/Shape\n",
      "import/dropout_8/cond/dropout/sub/x\n",
      "import/dropout_8/cond/dropout/sub\n",
      "import/dropout_8/cond/dropout/random_uniform/min\n",
      "import/dropout_8/cond/dropout/random_uniform/max\n",
      "import/dropout_8/cond/dropout/random_uniform/RandomUniform\n",
      "import/dropout_8/cond/dropout/random_uniform/sub\n",
      "import/dropout_8/cond/dropout/random_uniform/mul\n",
      "import/dropout_8/cond/dropout/random_uniform\n",
      "import/dropout_8/cond/dropout/add\n",
      "import/dropout_8/cond/dropout/Floor\n",
      "import/dropout_8/cond/dropout/truediv\n",
      "import/dropout_8/cond/dropout/mul\n",
      "import/dropout_8/cond/Identity/Switch\n",
      "import/dropout_8/cond/Identity\n",
      "import/dropout_8/cond/Merge\n",
      "import/predictions/kernel\n",
      "import/predictions/bias\n",
      "import/predictions/MatMul/ReadVariableOp\n",
      "import/predictions/MatMul\n",
      "import/predictions/BiasAdd/ReadVariableOp\n",
      "import/predictions/BiasAdd\n",
      "import/predictions/Softmax\n",
      "import/strided_slice/stack\n",
      "import/strided_slice/stack_1\n",
      "import/strided_slice/stack_2\n",
      "import/strided_slice\n",
      "import/1\n"
     ]
    }
   ],
   "source": [
    "for op in tf.get_default_graph().get_operations():\n",
    "    print(str(op.name))"
   ]
  },
  {
   "cell_type": "markdown",
   "metadata": {},
   "source": [
    "觀察後我們發現輸入層的名字為 `import/input`(類似), 輸出層的名字為 `output/Softmax`(類似). 在 tensorflow 中我們利用 `get_shape()` 這個函式來取得輸入/輸出的格式."
   ]
  },
  {
   "cell_type": "code",
   "execution_count": 10,
   "metadata": {},
   "outputs": [
    {
     "name": "stdout",
     "output_type": "stream",
     "text": [
      "(?, 32, 32, 3)\n",
      "(?, 10)\n"
     ]
    }
   ],
   "source": [
    "input_tensor = sess.graph.get_tensor_by_name('import/input:0')\n",
    "softmax_tensor = sess.graph.get_tensor_by_name('import/predictions/Softmax:0')\n",
    "print(input_tensor.get_shape())\n",
    "print(softmax_tensor.get_shape())"
   ]
  },
  {
   "cell_type": "markdown",
   "metadata": {},
   "source": [
    "以下是使用 Tensorflow 的方式進行運測. 程式碼和 keras 的版本很相似, 差別在於預測呼叫的函式不同."
   ]
  },
  {
   "cell_type": "code",
   "execution_count": null,
   "metadata": {
    "scrolled": false
   },
   "outputs": [],
   "source": [
    "# randomly pick an image\n",
    "idx = random.randint(1,100)\n",
    "im = X_test[idx]\n",
    "\n",
    "# predict\n",
    "softmax_tensor = sess.graph.get_tensor_by_name('import/output_2/Softmax:0')\n",
    "tf_output = sess.run(softmax_tensor, {'import/input_2:0': im.reshape((1,)+im.shape)})\n",
    "tf_predict = np.argmax(tf_output)\n",
    "\n",
    "plt.imshow(im)\n",
    "plt.title('{:.2f}% '.format(tf_output[0][tf_predict]*100) + labels[tf_predict])\n",
    "plt.show()"
   ]
  },
  {
   "cell_type": "markdown",
   "metadata": {},
   "source": [
    "你也可以從網路上抓一些圖片來測試模型. Python 中提供了 `requests` 函式庫來取得網路上的資料, 因此我們便利用它來取得測試用的圖片. 這裡我們提供一些連結的圖片讓大家練習\n",
    "- 飛機 https://encrypted-tbn0.gstatic.com/images?q=tbn:ANd9GcSMxAvTYUR5hSe3Y_V-HB0XmDaG3ZcX-p-CXZaKI-7g-rZH3bCj\n",
    "- 汽車 https://image.shutterstock.com/image-vector/car-cartoon-sticker-retro-style-260nw-566814880.jpg\n",
    "- 青蛙 https://encrypted-tbn0.gstatic.com/images?q=tbn:ANd9GcSJErznWjCWv70L2VudttjRkSYBiiUmo0uLgWBBNm96ftOYlnZ1kQ\n",
    "- 卡車 https://target.scene7.com/is/image/Target/GUEST_5ffb9be8-fcc2-4728-87e2-cb021932896a\n",
    "- 鳥 https://encrypted-tbn0.gstatic.com/images?q=tbn:ANd9GcQRPLQBnaubH2Z2b9Bw5U0MbZGReBgqsUXPvsrJt8UwEUdqW8Yk\n",
    "- 鹿 https://huntfish.mdc.mo.gov/sites/default/files/styles/species/public/images/species/deer.jpg\n",
    "\n",
    "因為建立模型時我們是使用32x32的彩色圖片進行訓練, 因此取得的影像必須先把尺寸調整成 32x32 才能正確地輸入到模型. 你可以自行替換掉`get()`內的字串後執行下面的程式區塊來觀察結果.\n",
    "\n",
    "註: 這個部分的內容(從網路取得圖片)超出了本課程的學習範疇, 因此我們不做解釋, 有興趣的同學可以自行參考一些相關資料,例如[https://blog.gtwang.org/programming/python-requests-module-tutorial/](https://blog.gtwang.org/programming/python-requests-module-tutorial/)"
   ]
  },
  {
   "cell_type": "code",
   "execution_count": 12,
   "metadata": {
    "scrolled": false
   },
   "outputs": [
    {
     "data": {
      "image/png": "[encoded data removed]",
      "text/plain": [
       "<Figure size 432x288 with 1 Axes>"
      ]
     },
     "metadata": {
      "needs_background": "light"
     },
     "output_type": "display_data"
    },
    {
     "data": {
      "text/html": [
       "<div>\n",
       "<style scoped>\n",
       "    .dataframe tbody tr th:only-of-type {\n",
       "        vertical-align: middle;\n",
       "    }\n",
       "\n",
       "    .dataframe tbody tr th {\n",
       "        vertical-align: top;\n",
       "    }\n",
       "\n",
       "    .dataframe thead th {\n",
       "        text-align: right;\n",
       "    }\n",
       "</style>\n",
       "<table border=\"1\" class=\"dataframe\">\n",
       "  <thead>\n",
       "    <tr style=\"text-align: right;\">\n",
       "      <th></th>\n",
       "      <th>airplaine</th>\n",
       "      <th>automobile</th>\n",
       "      <th>bird</th>\n",
       "      <th>cat</th>\n",
       "      <th>deer</th>\n",
       "      <th>dog</th>\n",
       "      <th>frog</th>\n",
       "      <th>horse</th>\n",
       "      <th>ship</th>\n",
       "      <th>truck</th>\n",
       "    </tr>\n",
       "  </thead>\n",
       "  <tbody>\n",
       "    <tr>\n",
       "      <th>0</th>\n",
       "      <td>0.0000</td>\n",
       "      <td>0.0000</td>\n",
       "      <td>0.0000</td>\n",
       "      <td>0.0000</td>\n",
       "      <td>0.0000</td>\n",
       "      <td>0.0000</td>\n",
       "      <td>0.0000</td>\n",
       "      <td>0.0000</td>\n",
       "      <td>0.0000</td>\n",
       "      <td>1.0000</td>\n",
       "    </tr>\n",
       "  </tbody>\n",
       "</table>\n",
       "</div>"
      ],
      "text/plain": [
       "   airplaine  automobile   bird    cat   deer    dog   frog  horse   ship  \\\n",
       "0     0.0000      0.0000 0.0000 0.0000 0.0000 0.0000 0.0000 0.0000 0.0000   \n",
       "\n",
       "   truck  \n",
       "0 1.0000  "
      ]
     },
     "metadata": {},
     "output_type": "display_data"
    },
    {
     "data": {
      "image/png": "[encoded data removed]",
      "text/plain": [
       "<Figure size 432x288 with 1 Axes>"
      ]
     },
     "metadata": {
      "needs_background": "light"
     },
     "output_type": "display_data"
    }
   ],
   "source": [
    "import pandas as pd\n",
    "from IPython.display import display\n",
    "from PIL import Image\n",
    "from io import BytesIO\n",
    "import requests\n",
    "\n",
    "# you can get new images by replacing the string in get() function.\n",
    "response = requests.get(\"https://target.scene7.com/is/image/Target/GUEST_5ffb9be8-fcc2-4728-87e2-cb021932896a\")\n",
    "\n",
    "if not response.ok:\n",
    "    print(response)\n",
    "im_data = response.content\n",
    "im = Image.open(BytesIO(im_data))\n",
    "\n",
    "plt.imshow(im)\n",
    "plt.title('original image')\n",
    "plt.axis('off')\n",
    "plt.show()\n",
    "\n",
    "# The input size of the image should be 32x32x3\n",
    "# remember to normalize the image, use PIL library to resize it\n",
    "im = im.resize((32,32))\n",
    "im_arr = np.array(im)\n",
    "im_arr = im_arr / 255\n",
    "\n",
    "# use the keras model to predict\n",
    "# output = k_model.predict(im_arr.reshape((1,)+im_arr.shape))\n",
    "\n",
    "# use tensorflow model to predict\n",
    "softmax_tensor = sess.graph.get_tensor_by_name('import/predictions/Softmax:0')\n",
    "output = sess.run(softmax_tensor, {'import/input:0': im_arr.reshape((1,)+im_arr.shape)})\n",
    "\n",
    "# find the largest one\n",
    "predict = np.argmax(output)\n",
    "\n",
    "# this part is just for beautiful printed texts\n",
    "pd.options.display.float_format = '{:.4f}'.format\n",
    "df = pd.DataFrame(output, columns=labels)\n",
    "display(df)\n",
    "predict = np.argmax(output)\n",
    "plt.imshow(im_arr)\n",
    "plt.title('{:.2f}% '.format(output[0][predict]*100) + labels[predict])\n",
    "plt.axis('off')\n",
    "plt.show()"
   ]
  },
  {
   "cell_type": "markdown",
   "metadata": {},
   "source": [
    "### 總結\n",
    "在這個單元裡, 你學習了如何載入已經訓練好的模型, 包含 Keras 以及 Tensorflow 的模型, 包括:\n",
    "* 如何將資料集區分為訓練資料, 驗證資料與測試資料\n",
    "* 如何設定神經網路模型, 包含傳統的多層感知機(MLP)以及卷積神經網路(CNN)\n",
    "* 如何訓練模型\n",
    "* 如何評估模型\n",
    "* 如何利用訓練好的模型進行預測  \n",
    "\n",
    "希望本教學能讓讀者對於機器學習有更多的認識."
   ]
  }
 ],
 "metadata": {
  "kernelspec": {
   "display_name": "Python 3",
   "language": "python",
   "name": "python3"
  },
  "language_info": {
   "codemirror_mode": {
    "name": "ipython",
    "version": 3
   },
   "file_extension": ".py",
   "mimetype": "text/x-python",
   "name": "python",
   "nbconvert_exporter": "python",
   "pygments_lexer": "ipython3",
   "version": "3.6.7"
  }
 },
 "nbformat": 4,
 "nbformat_minor": 2
}
