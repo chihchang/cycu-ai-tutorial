{
 "cells": [
  {
   "cell_type": "markdown",
   "metadata": {},
   "source": [
    "## AI 初探-如何使用Microsoft Custom Vision服務\n",
    "在這個主題中, 我們要教大家如何使用 Microsoft Custom Vision 服務. Custom Vision提供了物件辨認的服務,使用者只要提供一些想要辨認的圖片,機器就可以透過訓練學習出要辨認的物體.這個服務等於是把訓練模型的這件事交給專家(Microsoft)處理, 微軟也提供了一個便利的介面讓使用者上傳自己的資料.\n",
    "\n",
    "以下的操作都是建立在已經擁有 Microsoft Azure 帳號並開通 CusomVision 服務的情況下. 首先到 https://www.customvision.ai 並登入.  \n",
    "\n",
    "登入帳號為 {你的itouch帳號}@O365st.cycu.edu.tw (例如：99999@O365st.cycu.edu.tw), 密碼是你的itouch密碼."
   ]
  },
  {
   "cell_type": "markdown",
   "metadata": {},
   "source": [
    "登入後會有操作提示, 提醒使用者開啟一個新的專案. "
   ]
  },
  {
   "cell_type": "markdown",
   "metadata": {},
   "source": [
    "<img src='assets/step1.png' width=500></img>"
   ]
  },
  {
   "cell_type": "markdown",
   "metadata": {},
   "source": [
    "> # 動動手時間 \n",
    "> ### 請建立一個專案, 取名叫做group-{xx} (請檢查你筆電的上蓋有個編號，請填那個編號。例如：group-02)\n",
    "\n",
    "----------------"
   ]
  },
  {
   "cell_type": "markdown",
   "metadata": {},
   "source": [
    "開啟後要選擇一個專案名稱(自取), 幾個屬性我們稍微說明一下.\n",
    "- Resource Group: 代表提供這個服務的虛擬機器，請根據你的電腦名稱選擇正確的群組名稱(例如, 電腦編號是cycu002的組別請選擇cvst02)\n",
    "- Project Types: 想要學習的問題. Classification 是分類問題, Object detection 是偵測圖片中的物體. 如果是 detection, 必須標記出想要偵測的物體在圖片的哪一個位置.\n",
    "- Classification Types: 如果一張圖片中有一個以上的分類就要選 Multilabel, 只有一種物件就選 Multiclass, 本範例中請選擇 Multiclass\n",
    "- Domains: 這就好像模型的先備知識一樣, 如果選對了機器會學習的比較好(也就是比較準). 如果想要一個通用的模型就是選 general. 後面帶有 compact 字樣的表示是採用比較精簡的模型, 通常是為了給運算能力較差的裝置使用的. 後果就是辨識率會稍微差一些, 但對於不複雜的問題還是有不錯的辨識度. 而且 compact 模型可以匯出成 Tensorflow 的 .pb 檔, 就可以把模型檔案下載下來後在其他的裝置上執行\n",
    "\n",
    "選完以後就可以建立專案."
   ]
  },
  {
   "cell_type": "markdown",
   "metadata": {},
   "source": [
    "<img src='assets/step2.png' width=500></img>"
   ]
  },
  {
   "cell_type": "markdown",
   "metadata": {},
   "source": [
    "建好專案後就可以開始上傳資料. 這邊我們用Kaggle上的經典問題:[貓狗大戰](https://www.kaggle.com/c/dogs-vs-cats)的資料集做練習. 這個資料集總共有50000張貓跟狗的圖片, 這邊我們已準備了一個比較小範圍的資料集, 只有1000張左右的貓狗圖片集(在筆電桌面上的dogs-vs-cats資料夾內).\n",
    "\n",
    "這個資料夾裡面有三個子資料夾，分別叫做：cats, dogs, test  \n",
    "- cats: 只有貓的圖片\n",
    "- dogs: 只有狗的圖片\n",
    "- test: 兩者都有\n",
    "\n",
    "cats 跟 dogs 資料夾內的圖片，就是AI模型的**知識庫來源**，機器透過觀察這些圖片來歸納出什麼圖片裡有貓，什麼圖片裡有狗。而 test 資料夾內的圖片，則是用來測試**如果機器看到一張從來沒有看過的圖片，它的結論會是什麼?**"
   ]
  },
  {
   "cell_type": "markdown",
   "metadata": {},
   "source": [
    "首先,我們先示範如何上傳訓練用的圖片. 在開啟專案後的上方會有三個分頁標籤,分別是 Training Images, Performance 跟 Predictions. 在 Training Images 的分頁上, 你可以點擊 Add Images 按鈕來加入一些圖片到專案中.  \n",
    "\n",
    "註: 如果你已經上傳過一些圖片, 在這個分頁中會顯示已經上傳的圖片. 如果你要上傳更多的圖片, 你可以點選 Training Images下方的「+」圖案."
   ]
  },
  {
   "cell_type": "markdown",
   "metadata": {},
   "source": [
    "<img src='assets/step3.png' width=500></img>"
   ]
  },
  {
   "cell_type": "markdown",
   "metadata": {},
   "source": [
    "> # 動動手時間 \n",
    "> ### 請從 cat-vs-dogs 資料夾中的 cat 資料夾選取 cat.0.jpg ~ cat.4.jpg 共五張圖片並加入專案\n",
    "\n",
    "------"
   ]
  },
  {
   "cell_type": "markdown",
   "metadata": {},
   "source": [
    "選完圖片後會出現 Image Upload 這個畫面, 此時請在下面 My Tags 輸入框中設定這些照片的標籤(tag)名稱.  \n",
    "註:標籤名稱原本可以自訂,但建議訂成好懂的名稱,或是配合後續的其他程式需要的名稱,這邊我們定義貓的標籤叫cat,狗的標籤叫dog."
   ]
  },
  {
   "cell_type": "markdown",
   "metadata": {},
   "source": [
    "<img src='assets/step4.png' width=500></img>"
   ]
  },
  {
   "cell_type": "markdown",
   "metadata": {},
   "source": [
    "添加完貓的照片後再用同樣的方式增加狗的照片. 可以點擊左上角的「+」按鈕繼續增加照片並附上標籤."
   ]
  },
  {
   "cell_type": "markdown",
   "metadata": {},
   "source": [
    "<img src='assets/step5.png' width=400></img>"
   ]
  },
  {
   "cell_type": "markdown",
   "metadata": {},
   "source": [
    "> # 動動手時間\n",
    "> ### 請從 cat-vs-dogs 資料夾中的 dog 資料夾選取 dog.0.jpg ~ dog.4.jpg 共五張圖片並加入專案  \n",
    "\n",
    "------"
   ]
  },
  {
   "cell_type": "markdown",
   "metadata": {},
   "source": [
    "上傳完貓跟狗的照片後, 點選右上角的綠色按鈕開始訓練. 訓練方式有兩種, 這邊請先選擇 Quick training.  \n",
    "註: advanced training是用來做更精準的辨認,但因為耗時較長且需要較多設定,這邊先行跳過."
   ]
  },
  {
   "cell_type": "markdown",
   "metadata": {},
   "source": [
    "<img src='assets/step6.png' width=500></img>"
   ]
  },
  {
   "cell_type": "markdown",
   "metadata": {},
   "source": [
    "<img src='assets/step6-1.png' width=500></img>"
   ]
  },
  {
   "cell_type": "markdown",
   "metadata": {},
   "source": [
    "開始訓練後請等待個幾分鐘(等待時間會依問題的複雜程度跟當下的網路狀態會有所不同,從一分鐘到十分鐘都是有可能的),訓練完畢後在Performance分頁可以看到模型分類的結果."
   ]
  },
  {
   "cell_type": "markdown",
   "metadata": {},
   "source": [
    "> # 動動手時間\n",
    "> ### 訓練你的模型，並等待其結果 \n",
    "\n",
    "------"
   ]
  },
  {
   "cell_type": "markdown",
   "metadata": {},
   "source": [
    "<img src='assets/step7.png' width=800></img>"
   ]
  },
  {
   "cell_type": "markdown",
   "metadata": {},
   "source": [
    "在Performance頁面有三個屬性來顯示訓練的成果.\n",
    "\n",
    "* Precision - 精確率, 意思是在所有被模型判斷成該物體的資料中真正正確的物件所佔的比例\n",
    "* Recall - 召回率, 在所有該物件的資料中被模型判斷出來的比例\n",
    "* AP - average precision的縮寫. ap 的評估是用在偵測(detection)問題上, 我們目前是處理分類問題, 因此這個數字沒有意義.\n",
    "\n",
    "例如, 我有100張狗跟100張貓的照片，其中有110張被機器判斷成狗, 這些被判斷成狗的照片裡面真正是狗的照片有90張, 那 precision 就是 90/110, 而 recall 是 90/100."
   ]
  },
  {
   "cell_type": "markdown",
   "metadata": {},
   "source": [
    "訓練完畢後, 你如果想要快速的確認一下訓練模型的好壞, 你可以選訓練按鈕右邊的勾勾(Quick Test)即時的測試模型的辨認結果."
   ]
  },
  {
   "cell_type": "markdown",
   "metadata": {},
   "source": [
    "<img src='assets/step7-1.png' width=600></img>"
   ]
  },
  {
   "cell_type": "markdown",
   "metadata": {},
   "source": [
    "在 Quick Test 頁面,你有兩種選擇. 第一種是提供網路上的圖片的網址給 Image URL, Custom Vision 服務會去取得那張圖片後進行辨認. 另一種方法是選取自己電腦上的圖片(Browse local files)來測試辨認結果.  \n",
    "下方的 Predictions 會顯示模型預測的各種標籤的機率, 例如這邊範例中模型認為圖片中是狗的機率是99.9%."
   ]
  },
  {
   "cell_type": "markdown",
   "metadata": {},
   "source": [
    "<img src='assets/step14.png' width=900></img>"
   ]
  },
  {
   "cell_type": "markdown",
   "metadata": {},
   "source": [
    "> # 動動手時間\n",
    "> ### 請選擇 Browse local files，從 cat-vs-dogs 資料夾中的 test 資料夾選取幾張圖片並觀察辨認結果"
   ]
  },
  {
   "cell_type": "markdown",
   "metadata": {},
   "source": [
    "到此你已經有能力可以訓練一個物件辨認的AI模型. 請試著根據以下的操作指示, 完成數個問題.  \n",
    "\n",
    "------"
   ]
  },
  {
   "cell_type": "markdown",
   "metadata": {},
   "source": [
    "### 問題一：訓練影像的數量對辨認的結果會有影響嗎？"
   ]
  },
  {
   "cell_type": "markdown",
   "metadata": {},
   "source": [
    "請完成下列操作並到[https://reurl.cc/D66X1R](https://reurl.cc/D66X1R) 的學習單上填上你的實驗結果.\n",
    "1. 把test資料夾中的所有測試圖片都用 Quick Test 測試一次. 請問模型辨認正確的貓有幾張?狗又有幾張?\n",
    "2. 請把訓練的圖片增加到有20張貓跟20張狗的影像 (記得, 請不要加入重複的圖片)\n",
    "3. 重新訓練模型. 訓練完畢後你會看到在Performance頁面的左邊會有出現一個 iteration 2 (見下圖), 表示是第二次(用40張圖片)訓練的結果.\n",
    "\n",
    "### 註(重要)：重新訓練模型的時候**請不要拿 test 資料夾內的圖片進行訓練**。記得，test資料夾的圖片是為了模擬**機器看到未知圖片時的反應**，所以這些圖片不能參與訓練"
   ]
  },
  {
   "cell_type": "markdown",
   "metadata": {},
   "source": [
    "<img src='assets/step9-1.png' width=600></img>"
   ]
  },
  {
   "cell_type": "markdown",
   "metadata": {},
   "source": [
    "4. 再次用 Quick Test 測試test資料夾的所有圖片, 看看那些圖片會機器會辨認錯.\n",
    "5. 機器看錯的比例是否有下降？(請觀察，同一張圖片機器認為是貓跟狗的機率的變化)  \n",
    "\n",
    "**最後測試**：請從test資料夾中找一張機器辨認錯誤的圖片, 試試看需要多少張的訓練圖片(cats和dogs資料夾)機器才會正確辨認那張圖.(請保持貓跟狗的訓練圖片數量一致)  \n",
    "\n",
    "*提示: 如果對模型的分類結果不滿意, 你可以再加入更多的照片, 或是調整資料集的內容後重新訓練.*\n",
    "\n",
    "------"
   ]
  },
  {
   "cell_type": "markdown",
   "metadata": {},
   "source": [
    "### 問題二: 如果圖片裡是別的東西,會發生什麼事?"
   ]
  },
  {
   "cell_type": "markdown",
   "metadata": {},
   "source": [
    "1. 找一張裡面沒有貓也沒有狗的照片, 機器判斷成什麼？\n",
    "2. 根據上一個問題, 討論可能的原因並思考要怎麼改善這個問題.\n",
    "\n",
    "*提示: 在 Add images 的時候, 你可以設定一個微軟提供的標籤叫做 negative. 你覺得它的功能是什麼?*"
   ]
  },
  {
   "cell_type": "markdown",
   "metadata": {},
   "source": [
    "## (延伸單元)下載你的模型\n",
    "如果你之前選擇的是 compact 模型, 訓練完後會有 Export 的選項可以選擇, 這邊可以讓我們把模型下載到本機端."
   ]
  },
  {
   "cell_type": "markdown",
   "metadata": {},
   "source": [
    "<img src='assets/step11.png' width=500></img>"
   ]
  },
  {
   "cell_type": "markdown",
   "metadata": {},
   "source": [
    "選 Export 後請選擇 Tensorflow"
   ]
  },
  {
   "cell_type": "markdown",
   "metadata": {},
   "source": [
    "<img src='assets/step12.png' width=500></img>"
   ]
  },
  {
   "cell_type": "markdown",
   "metadata": {},
   "source": [
    "在紅框位置先選Export, CustomVision就會開始打包模型, 打包完後就可以下載."
   ]
  },
  {
   "cell_type": "markdown",
   "metadata": {},
   "source": [
    "<img src='assets/step13.png' width=500></img>"
   ]
  },
  {
   "cell_type": "markdown",
   "metadata": {},
   "source": [
    "下載完後的檔案會是一個壓縮檔, 解壓縮後裡面有兩個檔案 model.pb 跟 labels.txt. model.pb 檔舊式模型的參數, labels.txt 記錄了類別的名稱.  \n",
    "\n",
    "此時你已經可以把這麼檔案拿去別的程式中使用了."
   ]
  },
  {
   "cell_type": "markdown",
   "metadata": {},
   "source": [
    "### 總結\n",
    "這一個單元你學會了如何操作 Custom Vision 訓練模型並下載模型  \n",
    "請把你本周的學習成果填上學習單 https://reurl.cc/0z71zY"
   ]
  },
  {
   "cell_type": "markdown",
   "metadata": {},
   "source": [
    "### 延伸應用：\n",
    "利用 Custom Vision 讓自走車轉彎  \n",
    "https://youtu.be/72_U3RDJ1zU\n"
   ]
  }
 ],
 "metadata": {
  "kernelspec": {
   "display_name": "Python 3",
   "language": "python",
   "name": "python3"
  },
  "language_info": {
   "codemirror_mode": {
    "name": "ipython",
    "version": 3
   },
   "file_extension": ".py",
   "mimetype": "text/x-python",
   "name": "python",
   "nbconvert_exporter": "python",
   "pygments_lexer": "ipython3",
   "version": "3.6.8"
  }
 },
 "nbformat": 4,
 "nbformat_minor": 2
}
